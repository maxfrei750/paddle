{
 "cells": [
  {
   "cell_type": "markdown",
   "metadata": {
    "collapsed": true,
    "pycharm": {
     "name": "#%% md\n"
    }
   },
   "source": [
    "# Model training\n",
    "In this demo, you will learn how to:\n",
    "* configure a model\n",
    "* train a model\n",
    "\n",
    "## Imports"
   ]
  },
  {
   "cell_type": "code",
   "execution_count": 1,
   "outputs": [],
   "source": [
    "from pathlib import Path\n",
    "from paddle.utilities import download_file, unzip"
   ],
   "metadata": {
    "collapsed": false,
    "pycharm": {
     "name": "#%%\n"
    }
   }
  },
  {
   "cell_type": "markdown",
   "source": [
    "## Preparations\n",
    "For the demonstration, we need to download a data set to train on.\n",
    "\n",
    "### Download and extract data set"
   ],
   "metadata": {
    "collapsed": false
   }
  },
  {
   "cell_type": "code",
   "execution_count": 2,
   "outputs": [
    {
     "name": "stderr",
     "output_type": "stream",
     "text": [
      "  0%|          | 411k/206M [00:00<00:52, 3.91MiB/s]"
     ]
    },
    {
     "name": "stdout",
     "output_type": "stream",
     "text": [
      "Downloading file from https://uni-duisburg-essen.sciebo.de/s/FvF1fzUAp4sMxY5/download...\n"
     ]
    },
    {
     "name": "stderr",
     "output_type": "stream",
     "text": [
      "100%|██████████| 206M/206M [00:20<00:00, 9.87MiB/s] \n"
     ]
    }
   ],
   "source": [
    "data_zip_url = \"https://uni-duisburg-essen.sciebo.de/s/FvF1fzUAp4sMxY5/download\"\n",
    "data_zip_path = Path(\"..\") / \"mpac.zip\"\n",
    "data_root = Path(\"..\") / \"data\"\n",
    "\n",
    "download_file(data_zip_url, data_zip_path)\n",
    "unzip(data_zip_path, data_root)"
   ],
   "metadata": {
    "collapsed": false,
    "pycharm": {
     "name": "#%%\n"
    }
   }
  },
  {
   "cell_type": "markdown",
   "source": [
    "## Configuration\n",
    "To control the training, we use a configuration file. For this demonstration the configuration File\n",
    "is `ExampleConfig.yaml`. So let's see what's inside:\n"
   ],
   "metadata": {
    "collapsed": false
   }
  },
  {
   "cell_type": "code",
   "execution_count": 3,
   "outputs": [
    {
     "name": "stdout",
     "output_type": "stream",
     "text": [
      "hydra:\n",
      "  run:\n",
      "    dir: logs/${hydra:job.config_name}/${now:%Y-%m-%d_%H-%M-%S}\n",
      "program:\n",
      "  random_seed: 42\n",
      "  search_optimum_learning_rate: false\n",
      "callbacks:\n",
      "  early_stopping:\n",
      "    monitor: validation/mAP\n",
      "    patience: 20\n",
      "    mode: max\n",
      "  model_checkpoint:\n",
      "    monitor: validation/mAP\n",
      "    mode: max\n",
      "    filename: '{epoch}-{step}-{val/mAP:.4f}'\n",
      "  example_detection_monitor:\n",
      "    score_threshold: 0.5\n",
      "    do_display_box: true\n",
      "    do_display_label: false\n",
      "    do_display_score: true\n",
      "    do_display_mask: true\n",
      "    do_display_outlines_only: true\n",
      "    line_width: 1\n",
      "    font_size: 16\n",
      "trainer:\n",
      "  fast_dev_run: false\n",
      "  max_epochs: 3\n",
      "  gpus: -1\n",
      "lightning_module:\n",
      "  learning_rate: 0.005\n",
      "  drop_lr_on_plateau_patience: 10\n",
      "  num_classes: 2\n",
      "  model_kwargs:\n",
      "    box_detections_per_img: 200\n",
      "data_module:\n",
      "  data_root: ../data\n",
      "  batch_size: 8\n",
      "  train_subset: training\n",
      "  val_subset: validation\n",
      "  initial_cropping_rectangle: null\n",
      "\n"
     ]
    }
   ],
   "source": [
    "print(open(\"ExampleConfig.yaml\").read())"
   ],
   "metadata": {
    "collapsed": false,
    "pycharm": {
     "name": "#%%\n"
    }
   }
  },
  {
   "cell_type": "markdown",
   "source": [
    "A few notable configuration keys are:\n",
    "* `hydra:run:dir`: Naming scheme for the log path (includes a time stamp).\n",
    "* `callbacks:early_stopping`: Early stopping monitors how the mean average precision of the network\n",
    "on the validation data set evolves and stops, if there is no improvement for\n",
    "`callbacks:early_stopping:patience` epochs.\n",
    "* `trainer:max_epochs`: For this demonstration it is set to 3, to have a fast training. However,\n",
    "usually the value should be much higher (e.g. 300 or even more). Ideally, this number is never\n",
    "reached and the training is stopped based on the values of `callbacks:early_stopping`.\n",
    "* `lightning_module:num_classes`: Number of object classes + 1 (for the omnipresent  background\n",
    "class).\n",
    "* `lightning_module:model_kwargs:box_detections_per_img`: Maximum number of detected objects per\n",
    "image. Can be reduced to improve performance and increased for very crowded images.\n",
    "* `data_module:train_subset`: Name of the training subset.\n",
    "* `data_module:val_subset`: Name of the validation subset."
   ],
   "metadata": {
    "collapsed": false
   }
  },
  {
   "cell_type": "markdown",
   "source": [
    "## Training\n",
    "While in this demonstration, we use Jupyter Notebook, _paddle_ is designed to be run from scripts.\n",
    "Therefore, we just execute the training script and point it to the path where our configuration is\n",
    "stored and specify the name of our configuration. The resulting logs are stored in the `logs`\n",
    "folder.\n"
   ],
   "metadata": {
    "collapsed": false
   }
  },
  {
   "cell_type": "code",
   "execution_count": 4,
   "outputs": [
    {
     "name": "stdout",
     "output_type": "stream",
     "text": [
      "[2021-04-21 19:24:06,188][paddle.training][INFO] - Training with the following config:\n",
      "program:\n",
      "  random_seed: 42\n",
      "  search_optimum_learning_rate: false\n",
      "callbacks:\n",
      "  early_stopping:\n",
      "    monitor: validation/mAP\n",
      "    patience: 20\n",
      "    mode: max\n",
      "  model_checkpoint:\n",
      "    monitor: validation/mAP\n",
      "    mode: max\n",
      "    filename: '{epoch}-{step}-{val/mAP:.4f}'\n",
      "  example_detection_monitor:\n",
      "    score_threshold: 0.5\n",
      "    do_display_box: true\n",
      "    do_display_label: false\n",
      "    do_display_score: true\n",
      "    do_display_mask: true\n",
      "    do_display_outlines_only: true\n",
      "    line_width: 1\n",
      "    font_size: 16\n",
      "trainer:\n",
      "  fast_dev_run: false\n",
      "  max_epochs: 3\n",
      "  gpus: -1\n",
      "lightning_module:\n",
      "  learning_rate: 0.005\n",
      "  drop_lr_on_plateau_patience: 10\n",
      "  num_classes: 2\n",
      "  model_kwargs:\n",
      "    box_detections_per_img: 200\n",
      "data_module:\n",
      "  data_root: ../data\n",
      "  batch_size: 8\n",
      "  train_subset: training\n",
      "  val_subset: validation\n",
      "  initial_cropping_rectangle: null\n",
      "\n"
     ]
    },
    {
     "name": "stderr",
     "output_type": "stream",
     "text": [
      "Global seed set to 42\n",
      "GPU available: True, used: True\n",
      "TPU available: None, using: 0 TPU cores\n",
      "LOCAL_RANK: 0 - CUDA_VISIBLE_DEVICES: [0]\n",
      "\n",
      "  | Name               | Type       | Params\n",
      "--------------------------------------------------\n",
      "0 | model              | MaskRCNN   | 43.9 M\n",
      "1 | validation_metrics | ModuleDict | 0     \n",
      "--------------------------------------------------\n",
      "43.7 M    Trainable params\n",
      "222 K     Non-trainable params\n",
      "43.9 M    Total params\n"
     ]
    },
    {
     "data": {
      "text/plain": "Validation sanity check: 0it [00:00, ?it/s]",
      "application/vnd.jupyter.widget-view+json": {
       "version_major": 2,
       "version_minor": 0,
       "model_id": "610d78721897407b8c262eca2c266f9c"
      }
     },
     "metadata": {},
     "output_type": "display_data"
    },
    {
     "data": {
      "text/plain": "Training: 0it [00:00, ?it/s]",
      "application/vnd.jupyter.widget-view+json": {
       "version_major": 2,
       "version_minor": 0,
       "model_id": "f4acba94ef5b422abdc3cffed674ac44"
      }
     },
     "metadata": {},
     "output_type": "display_data"
    },
    {
     "data": {
      "text/plain": "Validating: 0it [00:00, ?it/s]",
      "application/vnd.jupyter.widget-view+json": {
       "version_major": 2,
       "version_minor": 0,
       "model_id": "4f077c504dee488a8c82686917769d8d"
      }
     },
     "metadata": {},
     "output_type": "display_data"
    },
    {
     "data": {
      "text/plain": "Validating: 0it [00:00, ?it/s]",
      "application/vnd.jupyter.widget-view+json": {
       "version_major": 2,
       "version_minor": 0,
       "model_id": "47c7018ac1b143d9ba1725668a0e1aa8"
      }
     },
     "metadata": {},
     "output_type": "display_data"
    },
    {
     "data": {
      "text/plain": "Validating: 0it [00:00, ?it/s]",
      "application/vnd.jupyter.widget-view+json": {
       "version_major": 2,
       "version_minor": 0,
       "model_id": "8a779e3d911943a5bcc80af16de6e9ea"
      }
     },
     "metadata": {},
     "output_type": "display_data"
    }
   ],
   "source": [
    "%run ../../train_model.py --config-dir=\"\" --config-name=ExampleConfig"
   ],
   "metadata": {
    "collapsed": false,
    "pycharm": {
     "name": "#%%\n"
    }
   }
  }
 ],
 "metadata": {
  "kernelspec": {
   "display_name": "Python 3",
   "language": "python",
   "name": "python3"
  },
  "language_info": {
   "codemirror_mode": {
    "name": "ipython",
    "version": 2
   },
   "file_extension": ".py",
   "mimetype": "text/x-python",
   "name": "python",
   "nbconvert_exporter": "python",
   "pygments_lexer": "ipython2",
   "version": "2.7.6"
  }
 },
 "nbformat": 4,
 "nbformat_minor": 0
}