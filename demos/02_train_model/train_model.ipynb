{
 "cells": [
  {
   "cell_type": "markdown",
   "metadata": {
    "pycharm": {
     "name": "#%% md\n"
    }
   },
   "source": [
    "# Model training\n",
    "In this demo, you will learn how to:\n",
    "* configure a model\n",
    "* train a model\n",
    "\n",
    "## Imports"
   ]
  },
  {
   "cell_type": "code",
   "execution_count": 1,
   "metadata": {
    "collapsed": false,
    "jupyter": {
     "outputs_hidden": false
    },
    "pycharm": {
     "name": "#%%\n"
    }
   },
   "outputs": [],
   "source": [
    "from pathlib import Path\n",
    "from paddle.utilities import download_file, unzip"
   ]
  },
  {
   "cell_type": "markdown",
   "metadata": {},
   "source": [
    "## Preparations\n",
    "For the demonstration, we need to download a data set to train on.\n",
    "\n",
    "### Download and extract data set"
   ]
  },
  {
   "cell_type": "code",
   "execution_count": 2,
   "metadata": {
    "collapsed": false,
    "jupyter": {
     "outputs_hidden": false
    },
    "pycharm": {
     "name": "#%%\n"
    }
   },
   "outputs": [
    {
     "name": "stderr",
     "output_type": "stream",
     "text": [
      "  0%|▎                                                                                                                                                                          | 555k/260M [00:00<00:46, 5.53MiB/s]"
     ]
    },
    {
     "name": "stdout",
     "output_type": "stream",
     "text": [
      "Downloading file from https://uni-duisburg-essen.sciebo.de/s/26xZ3VBcsA0SnC3/download...\n"
     ]
    },
    {
     "name": "stderr",
     "output_type": "stream",
     "text": [
      "100%|███████████████████████████████████████████████████████████████████████████████████████████████████████████████████████████████████████████████████████████████████████████| 260M/260M [00:22<00:00, 11.6MiB/s]\n"
     ]
    }
   ],
   "source": [
    "data_zip_url = \"https://uni-duisburg-essen.sciebo.de/s/26xZ3VBcsA0SnC3/download\"\n",
    "data_zip_path = Path(\"..\") / \"mpac.zip\"\n",
    "data_root = Path(\"..\") / \"data\"\n",
    "\n",
    "download_file(data_zip_url, data_zip_path)\n",
    "unzip(data_zip_path, data_root)"
   ]
  },
  {
   "cell_type": "markdown",
   "metadata": {},
   "source": [
    "## Configuration\n",
    "To control the training, we use a configuration file. For this demonstration the configuration File\n",
    "is `ExampleConfig.yaml`. So let's see what's inside:\n"
   ]
  },
  {
   "cell_type": "code",
   "execution_count": 3,
   "metadata": {
    "collapsed": false,
    "jupyter": {
     "outputs_hidden": false
    },
    "pycharm": {
     "name": "#%%\n"
    }
   },
   "outputs": [
    {
     "name": "stdout",
     "output_type": "stream",
     "text": [
      "hydra:\n",
      "  run:\n",
      "    dir: logs/${hydra:job.config_name}/${now:%Y-%m-%d_%H-%M-%S}\n",
      "program:\n",
      "  random_seed: 42\n",
      "  search_optimum_learning_rate: false\n",
      "callbacks:\n",
      "  early_stopping:\n",
      "    monitor: validation/mAP\n",
      "    patience: 20\n",
      "    mode: max\n",
      "  model_checkpoint:\n",
      "    monitor: validation/mAP\n",
      "    mode: max\n",
      "    filename: '{epoch}-{step}-{val/mAP:.4f}'\n",
      "  example_detection_monitor:\n",
      "    score_threshold: 0.5\n",
      "    do_display_box: true\n",
      "    do_display_label: false\n",
      "    do_display_score: true\n",
      "    do_display_mask: true\n",
      "    do_display_outlines_only: true\n",
      "    line_width: 1\n",
      "    font_size: 16\n",
      "logging:\n",
      "  wandb: \n",
      "    use: false\n",
      "trainer:\n",
      "  fast_dev_run: false\n",
      "  max_epochs: 3\n",
      "  gpus: -1\n",
      "lightning_module:\n",
      "  learning_rate: 0.005\n",
      "  drop_lr_on_plateau_patience: 10\n",
      "  num_classes: 2\n",
      "  model_kwargs:\n",
      "    box_detections_per_img: 200\n",
      "data_module:\n",
      "  data_root: ../data\n",
      "  batch_size: 4\n",
      "  train_subset: training\n",
      "  val_subset: validation\n",
      "  initial_cropping_rectangle: null\n",
      "  class_selector: null\n",
      "  user_albumentation_train:\n",
      "    transform:\n",
      "      __class_fullname__: albumentations.core.composition.Compose\n",
      "      additional_targets: { }\n",
      "      bbox_params: null\n",
      "      keypoint_params: null\n",
      "      p: 1.0\n",
      "      transforms:\n",
      "        - __class_fullname__: albumentations.augmentations.transforms.HorizontalFlip\n",
      "          always_apply: false\n",
      "          p: 0.5\n",
      "        - __class_fullname__: albumentations.augmentations.transforms.VerticalFlip\n",
      "          always_apply: false\n",
      "          p: 0.5\n",
      "\n"
     ]
    }
   ],
   "source": [
    "print(open(\"ExampleConfig.yaml\").read())"
   ]
  },
  {
   "cell_type": "markdown",
   "metadata": {},
   "source": [
    "A few notable configuration keys are:\n",
    "* `hydra:run:dir`: Naming scheme for the log path (includes a time stamp).\n",
    "* `callbacks:early_stopping`: Early stopping monitors how the mean average precision of the network\n",
    "on the validation data set evolves and stops, if there is no improvement for\n",
    "`callbacks:early_stopping:patience` epochs.\n",
    "* `trainer:max_epochs`: For this demonstration it is set to 3, to have a fast training. However,\n",
    "usually the value should be much higher (e.g. 300 or even more). Ideally, this number is never\n",
    "reached and the training is stopped based on the values of `callbacks:early_stopping`.\n",
    "* `lightning_module:num_classes`: Number of object classes + 1 (for the omnipresent  background\n",
    "class).\n",
    "* `lightning_module:model_kwargs:box_detections_per_img`: Maximum number of detected objects per\n",
    "image. Can be reduced to improve performance and increased for very crowded images.\n",
    "* `data_module:train_subset`: Name of the training subset.\n",
    "* `data_module:val_subset`: Name of the validation subset."
   ]
  },
  {
   "cell_type": "markdown",
   "metadata": {},
   "source": [
    "## Training\n",
    "While in this demonstration, we use Jupyter Notebook, _paddle_ is designed to be run from scripts.\n",
    "Therefore, we just execute the training script and point it to the path where our configuration is\n",
    "stored and specify the name of our configuration. The resulting logs are stored in the `logs`\n",
    "folder.\n"
   ]
  },
  {
   "cell_type": "code",
   "execution_count": 4,
   "metadata": {
    "collapsed": false,
    "jupyter": {
     "outputs_hidden": false
    },
    "pycharm": {
     "name": "#%%\n"
    },
    "tags": []
   },
   "outputs": [
    {
     "name": "stdout",
     "output_type": "stream",
     "text": [
      "DIPlib -- a quantitative image analysis library\n",
      "Version 3.3.0 (May 21 2022)\n",
      "For more information see https://diplib.org\n",
      "[2022-07-23 09:11:38,870][paddle.training][INFO] - Training with the following config:\n",
      "program:\n",
      "  random_seed: 42\n",
      "  search_optimum_learning_rate: false\n",
      "callbacks:\n",
      "  early_stopping:\n",
      "    monitor: validation/mAP\n",
      "    patience: 20\n",
      "    mode: max\n",
      "  model_checkpoint:\n",
      "    monitor: validation/mAP\n",
      "    mode: max\n",
      "    filename: '{epoch}-{step}-{val/mAP:.4f}'\n",
      "  example_detection_monitor:\n",
      "    score_threshold: 0.5\n",
      "    do_display_box: true\n",
      "    do_display_label: false\n",
      "    do_display_score: true\n",
      "    do_display_mask: true\n",
      "    do_display_outlines_only: true\n",
      "    line_width: 1\n",
      "    font_size: 16\n",
      "logging:\n",
      "  wandb:\n",
      "    use: false\n",
      "trainer:\n",
      "  fast_dev_run: false\n",
      "  max_epochs: 3\n",
      "  gpus: -1\n",
      "lightning_module:\n",
      "  learning_rate: 0.005\n",
      "  drop_lr_on_plateau_patience: 10\n",
      "  num_classes: 2\n",
      "  model_kwargs:\n",
      "    box_detections_per_img: 200\n",
      "data_module:\n",
      "  data_root: ../data\n",
      "  batch_size: 4\n",
      "  train_subset: training\n",
      "  val_subset: validation\n",
      "  initial_cropping_rectangle: null\n",
      "  class_selector: null\n",
      "  user_albumentation_train:\n",
      "    transform:\n",
      "      __class_fullname__: albumentations.core.composition.Compose\n",
      "      additional_targets: {}\n",
      "      bbox_params: null\n",
      "      keypoint_params: null\n",
      "      p: 1.0\n",
      "      transforms:\n",
      "      - __class_fullname__: albumentations.augmentations.transforms.HorizontalFlip\n",
      "        always_apply: false\n",
      "        p: 0.5\n",
      "      - __class_fullname__: albumentations.augmentations.transforms.VerticalFlip\n",
      "        always_apply: false\n",
      "        p: 0.5\n",
      "\n"
     ]
    },
    {
     "name": "stderr",
     "output_type": "stream",
     "text": [
      "Global seed set to 42\n",
      "GPU available: True, used: True\n",
      "TPU available: None, using: 0 TPU cores\n",
      "LOCAL_RANK: 0 - CUDA_VISIBLE_DEVICES: [0]\n",
      "\n",
      "  | Name               | Type       | Params\n",
      "--------------------------------------------------\n",
      "0 | model              | MaskRCNN   | 43.9 M\n",
      "1 | validation_metrics | ModuleDict | 0     \n",
      "--------------------------------------------------\n",
      "43.7 M    Trainable params\n",
      "222 K     Non-trainable params\n",
      "43.9 M    Total params\n"
     ]
    },
    {
     "name": "stdout",
     "output_type": "stream",
     "text": [
      "Epoch 0:  80%|████████████████████████████████████████████████████████████████████████████████████████████████████████████████▊                            | 100/125 [00:57<00:14,  1.75it/s, loss=1.22, v_num=1-38]\n",
      "Validating: 0it [00:00, ?it/s]\u001b[A\n",
      "Validating:   0%|                                                                                                                                                                            | 0/25 [00:00<?, ?it/s]\u001b[A\n",
      "Epoch 0:  82%|███████████████████████████████████████████████████████████████████████████████████████████████████████████████████                          | 102/125 [01:00<00:13,  1.69it/s, loss=1.22, v_num=1-38]\u001b[A\n",
      "Validating:   8%|█████████████                                                                                                                                                       | 2/25 [00:04<00:50,  2.18s/it]\u001b[A\n",
      "Epoch 0:  83%|█████████████████████████████████████████████████████████████████████████████████████████████████████████████████████▎                       | 104/125 [01:03<00:12,  1.64it/s, loss=1.22, v_num=1-38]\u001b[A\n",
      "Validating:  16%|██████████████████████████▏                                                                                                                                         | 4/25 [00:08<00:44,  2.14s/it]\u001b[A\n",
      "Epoch 0:  85%|███████████████████████████████████████████████████████████████████████████████████████████████████████████████████████▌                     | 106/125 [01:07<00:12,  1.56it/s, loss=1.22, v_num=1-38]\u001b[A\n",
      "Validating:  24%|███████████████████████████████████████▎                                                                                                                            | 6/25 [00:13<00:43,  2.28s/it]\u001b[A\n",
      "Epoch 0:  86%|█████████████████████████████████████████████████████████████████████████████████████████████████████████████████████████▊                   | 108/125 [01:12<00:11,  1.49it/s, loss=1.22, v_num=1-38]\u001b[A\n",
      "Validating:  32%|████████████████████████████████████████████████████▍                                                                                                               | 8/25 [00:17<00:35,  2.10s/it]\u001b[A\n",
      "Epoch 0:  88%|████████████████████████████████████████████████████████████████████████████████████████████████████████████████████████████                 | 110/125 [01:17<00:10,  1.42it/s, loss=1.22, v_num=1-38]\u001b[A\n",
      "Validating:  40%|█████████████████████████████████████████████████████████████████▏                                                                                                 | 10/25 [00:21<00:32,  2.15s/it]\u001b[A\n",
      "Epoch 0:  90%|██████████████████████████████████████████████████████████████████████████████████████████████████████████████████████████████▎              | 112/125 [01:21<00:09,  1.38it/s, loss=1.22, v_num=1-38]\u001b[A\n",
      "Validating:  48%|██████████████████████████████████████████████████████████████████████████████▏                                                                                    | 12/25 [00:25<00:25,  1.98s/it]\u001b[A\n",
      "Epoch 0:  91%|████████████████████████████████████████████████████████████████████████████████████████████████████████████████████████████████▌            | 114/125 [01:24<00:08,  1.35it/s, loss=1.22, v_num=1-38]\u001b[A\n",
      "Validating:  56%|███████████████████████████████████████████████████████████████████████████████████████████▎                                                                       | 14/25 [00:28<00:19,  1.81s/it]\u001b[A\n",
      "Epoch 0:  93%|██████████████████████████████████████████████████████████████████████████████████████████████████████████████████████████████████▊          | 116/125 [01:33<00:07,  1.25it/s, loss=1.22, v_num=1-38]\u001b[A\n",
      "Validating:  64%|████████████████████████████████████████████████████████████████████████████████████████████████████████▎                                                          | 16/25 [00:39<00:30,  3.39s/it]\u001b[A\n",
      "Epoch 0:  94%|█████████████████████████████████████████████████████████████████████████████████████████████████████████████████████████████████████        | 118/125 [01:37<00:05,  1.20it/s, loss=1.22, v_num=1-38]\u001b[A\n",
      "Validating:  72%|█████████████████████████████████████████████████████████████████████████████████████████████████████████████████████▎                                             | 18/25 [00:42<00:17,  2.48s/it]\u001b[A\n",
      "Epoch 0:  96%|███████████████████████████████████████████████████████████████████████████████████████████████████████████████████████████████████████▎     | 120/125 [01:42<00:04,  1.18it/s, loss=1.22, v_num=1-38]\u001b[A\n",
      "Validating:  80%|██████████████████████████████████████████████████████████████████████████████████████████████████████████████████████████████████▍                                | 20/25 [00:46<00:11,  2.23s/it]\u001b[A\n",
      "Epoch 0:  98%|█████████████████████████████████████████████████████████████████████████████████████████████████████████████████████████████████████████▌   | 122/125 [01:46<00:02,  1.15it/s, loss=1.22, v_num=1-38]\u001b[A\n",
      "Validating:  88%|███████████████████████████████████████████████████████████████████████████████████████████████████████████████████████████████████████████████▍                   | 22/25 [00:51<00:07,  2.34s/it]\u001b[A\n",
      "Epoch 0:  99%|███████████████████████████████████████████████████████████████████████████████████████████████████████████████████████████████████████████▊ | 124/125 [01:52<00:00,  1.10it/s, loss=1.22, v_num=1-38]\u001b[A\n",
      "Validating:  96%|████████████████████████████████████████████████████████████████████████████████████████████████████████████████████████████████████████████████████████████▍      | 24/25 [00:57<00:02,  2.68s/it]\u001b[A\n",
      "Epoch 0: 100%|█████████████████████████████████████████████████████████████████████████████████████████████████████████████████████████████████████████████| 125/125 [01:56<00:00,  1.07it/s, loss=1.22, v_num=1-38]\u001b[A\n",
      "Epoch 1:  80%|████████████████████████████████████████████████████████████████████████████████████████████████████████████████▊                            | 100/125 [00:56<00:14,  1.78it/s, loss=1.09, v_num=1-38]\u001b[A\n",
      "Validating: 0it [00:00, ?it/s]\u001b[A\n",
      "Validating:   0%|                                                                                                                                                                            | 0/25 [00:00<?, ?it/s]\u001b[A\n",
      "Epoch 1:  82%|███████████████████████████████████████████████████████████████████████████████████████████████████████████████████                          | 102/125 [00:58<00:13,  1.73it/s, loss=1.09, v_num=1-38]\u001b[A\n",
      "Validating:   8%|█████████████                                                                                                                                                       | 2/25 [00:03<00:42,  1.84s/it]\u001b[A\n",
      "Epoch 1:  83%|█████████████████████████████████████████████████████████████████████████████████████████████████████████████████████▎                       | 104/125 [01:01<00:12,  1.68it/s, loss=1.09, v_num=1-38]\u001b[A\n",
      "Validating:  16%|██████████████████████████▏                                                                                                                                         | 4/25 [00:07<00:36,  1.72s/it]\u001b[A\n",
      "Epoch 1:  85%|███████████████████████████████████████████████████████████████████████████████████████████████████████████████████████▌                     | 106/125 [01:04<00:11,  1.63it/s, loss=1.09, v_num=1-38]\u001b[A\n",
      "Validating:  24%|███████████████████████████████████████▎                                                                                                                            | 6/25 [00:11<00:36,  1.90s/it]\u001b[A\n",
      "Epoch 1:  86%|█████████████████████████████████████████████████████████████████████████████████████████████████████████████████████████▊                   | 108/125 [01:09<00:10,  1.56it/s, loss=1.09, v_num=1-38]\u001b[A\n",
      "Validating:  32%|████████████████████████████████████████████████████▍                                                                                                               | 8/25 [00:14<00:31,  1.83s/it]\u001b[A\n",
      "Epoch 1:  88%|████████████████████████████████████████████████████████████████████████████████████████████████████████████████████████████                 | 110/125 [01:13<00:10,  1.50it/s, loss=1.09, v_num=1-38]\u001b[A\n",
      "Validating:  40%|█████████████████████████████████████████████████████████████████▏                                                                                                 | 10/25 [00:18<00:28,  1.90s/it]\u001b[A\n",
      "Epoch 1:  90%|██████████████████████████████████████████████████████████████████████████████████████████████████████████████████████████████▎              | 112/125 [01:17<00:08,  1.45it/s, loss=1.09, v_num=1-38]\u001b[A\n",
      "Validating:  48%|██████████████████████████████████████████████████████████████████████████████▏                                                                                    | 12/25 [00:22<00:22,  1.75s/it]\u001b[A\n",
      "Epoch 1:  91%|████████████████████████████████████████████████████████████████████████████████████████████████████████████████████████████████▌            | 114/125 [01:19<00:07,  1.43it/s, loss=1.09, v_num=1-38]\u001b[A\n",
      "Validating:  56%|███████████████████████████████████████████████████████████████████████████████████████████▎                                                                       | 14/25 [00:24<00:17,  1.60s/it]\u001b[A\n",
      "Epoch 1:  93%|██████████████████████████████████████████████████████████████████████████████████████████████████████████████████████████████████▊          | 116/125 [01:28<00:06,  1.32it/s, loss=1.09, v_num=1-38]\u001b[A\n",
      "Validating:  64%|████████████████████████████████████████████████████████████████████████████████████████████████████████▎                                                          | 16/25 [00:34<00:28,  3.11s/it]\u001b[A\n",
      "Epoch 1:  94%|█████████████████████████████████████████████████████████████████████████████████████████████████████████████████████████████████████        | 118/125 [01:32<00:05,  1.28it/s, loss=1.09, v_num=1-38]\u001b[A\n",
      "Validating:  72%|█████████████████████████████████████████████████████████████████████████████████████████████████████████████████████▎                                             | 18/25 [00:37<00:15,  2.24s/it]\u001b[A\n",
      "Epoch 1:  96%|███████████████████████████████████████████████████████████████████████████████████████████████████████████████████████████████████████▎     | 120/125 [01:36<00:04,  1.25it/s, loss=1.09, v_num=1-38]\u001b[A\n",
      "Validating:  80%|██████████████████████████████████████████████████████████████████████████████████████████████████████████████████████████████████▍                                | 20/25 [00:41<00:10,  2.02s/it]\u001b[A\n",
      "Epoch 1:  98%|█████████████████████████████████████████████████████████████████████████████████████████████████████████████████████████████████████████▌   | 122/125 [01:39<00:02,  1.23it/s, loss=1.09, v_num=1-38]\u001b[A\n",
      "Validating:  88%|███████████████████████████████████████████████████████████████████████████████████████████████████████████████████████████████████████████████▍                   | 22/25 [00:45<00:06,  2.10s/it]\u001b[A\n",
      "Epoch 1:  99%|███████████████████████████████████████████████████████████████████████████████████████████████████████████████████████████████████████████▊ | 124/125 [01:45<00:00,  1.17it/s, loss=1.09, v_num=1-38]\u001b[A\n",
      "Validating:  96%|████████████████████████████████████████████████████████████████████████████████████████████████████████████████████████████████████████████████████████████▍      | 24/25 [00:51<00:02,  2.46s/it]\u001b[A\n",
      "Epoch 1: 100%|█████████████████████████████████████████████████████████████████████████████████████████████████████████████████████████████████████████████| 125/125 [01:49<00:00,  1.14it/s, loss=1.09, v_num=1-38]\u001b[A\n",
      "Epoch 2:  80%|████████████████████████████████████████████████████████████████████████████████████████████████████████████████▊                            | 100/125 [00:56<00:14,  1.78it/s, loss=1.01, v_num=1-38]\u001b[A\n",
      "Validating: 0it [00:00, ?it/s]\u001b[A\n",
      "Validating:   0%|                                                                                                                                                                            | 0/25 [00:00<?, ?it/s]\u001b[A\n",
      "Epoch 2:  82%|███████████████████████████████████████████████████████████████████████████████████████████████████████████████████                          | 102/125 [00:58<00:13,  1.73it/s, loss=1.01, v_num=1-38]\u001b[A\n",
      "Validating:   8%|█████████████                                                                                                                                                       | 2/25 [00:03<00:41,  1.79s/it]\u001b[A\n",
      "Epoch 2:  83%|█████████████████████████████████████████████████████████████████████████████████████████████████████████████████████▎                       | 104/125 [01:01<00:12,  1.69it/s, loss=1.01, v_num=1-38]\u001b[A\n",
      "Validating:  16%|██████████████████████████▏                                                                                                                                         | 4/25 [00:06<00:34,  1.66s/it]\u001b[A\n",
      "Epoch 2:  85%|███████████████████████████████████████████████████████████████████████████████████████████████████████████████████████▌                     | 106/125 [01:04<00:11,  1.64it/s, loss=1.01, v_num=1-38]\u001b[A\n",
      "Validating:  24%|███████████████████████████████████████▎                                                                                                                            | 6/25 [00:10<00:34,  1.82s/it]\u001b[A\n",
      "Epoch 2:  86%|█████████████████████████████████████████████████████████████████████████████████████████████████████████████████████████▊                   | 108/125 [01:08<00:10,  1.57it/s, loss=1.01, v_num=1-38]\u001b[A\n",
      "Validating:  32%|████████████████████████████████████████████████████▍                                                                                                               | 8/25 [00:14<00:30,  1.82s/it]\u001b[A\n",
      "Epoch 2:  88%|████████████████████████████████████████████████████████████████████████████████████████████████████████████████████████████                 | 110/125 [01:12<00:09,  1.51it/s, loss=1.01, v_num=1-38]\u001b[A\n",
      "Validating:  40%|█████████████████████████████████████████████████████████████████▏                                                                                                 | 10/25 [00:18<00:27,  1.83s/it]\u001b[A\n",
      "Epoch 2:  90%|██████████████████████████████████████████████████████████████████████████████████████████████████████████████████████████████▎              | 112/125 [01:16<00:08,  1.47it/s, loss=1.01, v_num=1-38]\u001b[A\n",
      "Validating:  48%|██████████████████████████████████████████████████████████████████████████████▏                                                                                    | 12/25 [00:21<00:21,  1.66s/it]\u001b[A\n",
      "Epoch 2:  91%|████████████████████████████████████████████████████████████████████████████████████████████████████████████████████████████████▌            | 114/125 [01:18<00:07,  1.45it/s, loss=1.01, v_num=1-38]\u001b[A\n",
      "Validating:  56%|███████████████████████████████████████████████████████████████████████████████████████████▎                                                                       | 14/25 [00:24<00:16,  1.53s/it]\u001b[A\n",
      "Epoch 2:  93%|██████████████████████████████████████████████████████████████████████████████████████████████████████████████████████████████████▊          | 116/125 [01:26<00:06,  1.34it/s, loss=1.01, v_num=1-38]\u001b[A\n",
      "Validating:  64%|████████████████████████████████████████████████████████████████████████████████████████████████████████▎                                                          | 16/25 [00:33<00:27,  3.02s/it]\u001b[A\n",
      "Epoch 2:  94%|█████████████████████████████████████████████████████████████████████████████████████████████████████████████████████████████████████        | 118/125 [01:30<00:05,  1.30it/s, loss=1.01, v_num=1-38]\u001b[A\n",
      "Validating:  72%|█████████████████████████████████████████████████████████████████████████████████████████████████████████████████████▎                                             | 18/25 [00:36<00:14,  2.11s/it]\u001b[A\n",
      "Epoch 2:  96%|███████████████████████████████████████████████████████████████████████████████████████████████████████████████████████████████████████▎     | 120/125 [01:34<00:03,  1.27it/s, loss=1.01, v_num=1-38]\u001b[A\n",
      "Validating:  80%|██████████████████████████████████████████████████████████████████████████████████████████████████████████████████████████████████▍                                | 20/25 [00:39<00:09,  1.95s/it]\u001b[A\n",
      "Epoch 2:  98%|█████████████████████████████████████████████████████████████████████████████████████████████████████████████████████████████████████████▌   | 122/125 [01:37<00:02,  1.25it/s, loss=1.01, v_num=1-38]\u001b[A\n",
      "Validating:  88%|███████████████████████████████████████████████████████████████████████████████████████████████████████████████████████████████████████████████▍                   | 22/25 [00:43<00:05,  1.98s/it]\u001b[A\n",
      "Epoch 2:  99%|███████████████████████████████████████████████████████████████████████████████████████████████████████████████████████████████████████████▊ | 124/125 [01:43<00:00,  1.19it/s, loss=1.01, v_num=1-38]\u001b[A\n",
      "Validating:  96%|████████████████████████████████████████████████████████████████████████████████████████████████████████████████████████████████████████████████████████████▍      | 24/25 [00:49<00:02,  2.35s/it]\u001b[A\n",
      "Epoch 2: 100%|█████████████████████████████████████████████████████████████████████████████████████████████████████████████████████████████████████████████| 125/125 [01:47<00:00,  1.17it/s, loss=1.01, v_num=1-38]\u001b[A\n",
      "Epoch 2: 100%|█████████████████████████████████████████████████████████████████████████████████████████████████████████████████████████████████████████████| 125/125 [01:47<00:00,  1.17it/s, loss=1.01, v_num=1-38]\u001b[A\n"
     ]
    }
   ],
   "source": [
    "%run ../../train_model.py --config-dir=\"\" --config-name=ExampleConfig"
   ]
  },
  {
   "cell_type": "code",
   "execution_count": null,
   "metadata": {},
   "outputs": [],
   "source": []
  }
 ],
 "metadata": {
  "kernelspec": {
   "display_name": "Python 3 (ipykernel)",
   "language": "python",
   "name": "python3"
  },
  "language_info": {
   "codemirror_mode": {
    "name": "ipython",
    "version": 3
   },
   "file_extension": ".py",
   "mimetype": "text/x-python",
   "name": "python",
   "nbconvert_exporter": "python",
   "pygments_lexer": "ipython3",
   "version": "3.8.13"
  }
 },
 "nbformat": 4,
 "nbformat_minor": 4
}
