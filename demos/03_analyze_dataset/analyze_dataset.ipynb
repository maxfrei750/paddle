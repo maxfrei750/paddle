{
 "cells": [
  {
   "cell_type": "markdown",
   "metadata": {
    "pycharm": {
     "name": "#%% md\n"
    }
   },
   "source": [
    "# Particle size analysis using a pre-trained model\n",
    "In this demo, you will learn how to:\n",
    "* use a pre-trained model to analyse a set of images\n",
    "* post-process the analysis results\n",
    "* visualize the analysis results\n",
    "\n",
    "## Imports"
   ]
  },
  {
   "cell_type": "code",
   "execution_count": 1,
   "metadata": {
    "collapsed": false,
    "jupyter": {
     "outputs_hidden": false
    },
    "pycharm": {
     "name": "#%%\n"
    }
   },
   "outputs": [
    {
     "name": "stdout",
     "output_type": "stream",
     "text": [
      "DIPlib -- a quantitative image analysis library\n",
      "Version 3.3.0 (May 21 2022)\n",
      "For more information see https://diplib.org\n"
     ]
    }
   ],
   "source": [
    "from IPython.display import display\n",
    "from IPython.display import Image\n",
    "\n",
    "from pathlib import Path\n",
    "import shutil\n",
    "\n",
    "import pandas as pd\n",
    "\n",
    "from paddle.lightning_modules import LightningMaskRCNN\n",
    "from paddle.deployment import run_model_on_dataset\n",
    "from paddle.data import MaskRCNNDataset\n",
    "from paddle.postprocessing import (\n",
    "    Postprocessor,\n",
    "    FilterBorderInstances,\n",
    "    SaveMaskProperties,\n",
    "    FilterScore,\n",
    "    SaveVisualization,\n",
    "    calculate_area_equivalent_diameters,\n",
    "    calculate_maximum_feret_diameters,\n",
    "    calculate_minimum_feret_diameters,\n",
    ")\n",
    "from paddle.utilities import download_file, unzip\n",
    "from paddle.visualization import plot_particle_size_distributions"
   ]
  },
  {
   "cell_type": "markdown",
   "metadata": {},
   "source": [
    "## Preparations\n",
    "For the demonstration, we need to have some example data, and a model that was trained on said data.\n"
   ]
  },
  {
   "cell_type": "markdown",
   "metadata": {
    "pycharm": {
     "name": "#%% md\n"
    }
   },
   "source": [
    "### Download pretrained model"
   ]
  },
  {
   "cell_type": "code",
   "execution_count": null,
   "metadata": {
    "collapsed": false,
    "jupyter": {
     "outputs_hidden": false
    },
    "pycharm": {
     "name": "#%%\n"
    }
   },
   "outputs": [
    {
     "name": "stderr",
     "output_type": "stream",
     "text": [
      "  0%|                                                                                                                                                                                   | 0.00/176M [00:00<?, ?iB/s]"
     ]
    },
    {
     "name": "stdout",
     "output_type": "stream",
     "text": [
      "Downloading file from https://uni-duisburg-essen.sciebo.de/s/qSiv7c4WyGfTAly/download...\n"
     ]
    },
    {
     "name": "stderr",
     "output_type": "stream",
     "text": [
      " 90%|█████████████████████████████████████████████████████████████████████████████████████████████████████████████████████████████████████████████████████████▉                 | 159M/176M [00:13<00:01, 11.6MiB/s]"
     ]
    }
   ],
   "source": [
    "model_checkpoint_url = \"https://uni-duisburg-essen.sciebo.de/s/qSiv7c4WyGfTAly/download\"\n",
    "model_checkpoint_path = Path(\"..\") / \"maskrcnn_resnet50_mpac.ckpt\"\n",
    "download_file(model_checkpoint_url, model_checkpoint_path)"
   ]
  },
  {
   "cell_type": "markdown",
   "metadata": {},
   "source": [
    "### Download and extract data set"
   ]
  },
  {
   "cell_type": "code",
   "execution_count": null,
   "metadata": {
    "collapsed": false,
    "jupyter": {
     "outputs_hidden": false
    },
    "pycharm": {
     "name": "#%%\n"
    }
   },
   "outputs": [],
   "source": [
    "data_zip_url = \"https://uni-duisburg-essen.sciebo.de/s/26xZ3VBcsA0SnC3/download\"\n",
    "data_zip_path = Path(\"..\") / \"mpac.zip\"\n",
    "data_root = Path(\"..\") / \"data\"\n",
    "\n",
    "download_file(data_zip_url, data_zip_path)\n",
    "unzip(data_zip_path, data_root)"
   ]
  },
  {
   "cell_type": "markdown",
   "metadata": {},
   "source": [
    "## Load model"
   ]
  },
  {
   "cell_type": "code",
   "execution_count": null,
   "metadata": {
    "collapsed": false,
    "jupyter": {
     "outputs_hidden": false
    },
    "pycharm": {
     "name": "#%%\n"
    }
   },
   "outputs": [],
   "source": [
    "model = LightningMaskRCNN.load_from_checkpoint(model_checkpoint_path)"
   ]
  },
  {
   "cell_type": "markdown",
   "metadata": {},
   "source": [
    "## Perform analysis"
   ]
  },
  {
   "cell_type": "markdown",
   "metadata": {},
   "source": [
    "Choose a subset of the MPAC dataset for the analysis:"
   ]
  },
  {
   "cell_type": "code",
   "execution_count": null,
   "metadata": {
    "collapsed": false,
    "jupyter": {
     "outputs_hidden": false
    },
    "pycharm": {
     "name": "#%%\n"
    }
   },
   "outputs": [],
   "source": [
    "subset = \"test_s06\""
   ]
  },
  {
   "cell_type": "markdown",
   "metadata": {},
   "source": [
    "Define an output path, where the analysis results are going to be saved:"
   ]
  },
  {
   "cell_type": "code",
   "execution_count": null,
   "metadata": {
    "collapsed": false,
    "jupyter": {
     "outputs_hidden": false
    },
    "pycharm": {
     "name": "#%%\n"
    }
   },
   "outputs": [],
   "source": [
    "output_root = Path(\"output\")"
   ]
  },
  {
   "cell_type": "markdown",
   "metadata": {},
   "source": [
    "For the purpose of this demo, remove the output directory (if it already exists). Otherwise,\n",
    "`run_model_on_dataset` would raise an exception, so that it does not overwrite any data:"
   ]
  },
  {
   "cell_type": "code",
   "execution_count": null,
   "metadata": {
    "collapsed": false,
    "jupyter": {
     "outputs_hidden": false
    },
    "pycharm": {
     "name": "#%%\n"
    }
   },
   "outputs": [],
   "source": [
    "shutil.rmtree(output_root, ignore_errors=True)"
   ]
  },
  {
   "cell_type": "markdown",
   "metadata": {},
   "source": [
    "Run the analysis:"
   ]
  },
  {
   "cell_type": "code",
   "execution_count": null,
   "metadata": {
    "collapsed": false,
    "jupyter": {
     "outputs_hidden": false
    },
    "pycharm": {
     "name": "#%%\n"
    }
   },
   "outputs": [],
   "source": [
    "run_model_on_dataset(model, output_root, data_root, subset)"
   ]
  },
  {
   "cell_type": "markdown",
   "metadata": {},
   "source": [
    "## Post-process results\n",
    "So far, we only have raw outputs, i.e. a new data set, which contains input images and detection\n",
    "masks, scores and classes. Therefore, we now post-process our results using the `Postprocessor`\n",
    "class."
   ]
  },
  {
   "cell_type": "markdown",
   "metadata": {},
   "source": [
    "First, we create a dataset that holds our raw detections:"
   ]
  },
  {
   "cell_type": "code",
   "execution_count": null,
   "metadata": {
    "collapsed": false,
    "jupyter": {
     "outputs_hidden": false
    },
    "pycharm": {
     "name": "#%%\n"
    }
   },
   "outputs": [],
   "source": [
    "result_data_set = MaskRCNNDataset(\n",
    "    output_root,\n",
    "    subset=subset\n",
    ")"
   ]
  },
  {
   "cell_type": "markdown",
   "metadata": {},
   "source": [
    "Then, we set up the post processing. To do so, we define a sequence of post processing steps:"
   ]
  },
  {
   "cell_type": "markdown",
   "metadata": {},
   "source": [
    "1. Remove instances that touch the image border."
   ]
  },
  {
   "cell_type": "code",
   "execution_count": null,
   "metadata": {
    "collapsed": false,
    "jupyter": {
     "outputs_hidden": false
    },
    "pycharm": {
     "name": "#%%\n"
    }
   },
   "outputs": [],
   "source": [
    "filter_border_instances = FilterBorderInstances(border_width=3)"
   ]
  },
  {
   "cell_type": "markdown",
   "metadata": {},
   "source": [
    "2. Measure and save properties of the instance masks, using the specified functions (these could\n",
    "be custom functions as well):"
   ]
  },
  {
   "cell_type": "code",
   "execution_count": null,
   "metadata": {
    "collapsed": false,
    "jupyter": {
     "outputs_hidden": false
    },
    "pycharm": {
     "name": "#%%\n"
    }
   },
   "outputs": [],
   "source": [
    "save_mask_properties = SaveMaskProperties(\n",
    "    output_file_path=output_root / subset / \"measurements.csv\",\n",
    "    measurement_fcns={\n",
    "        \"equivalent_diameter_area\": calculate_area_equivalent_diameters,\n",
    "        \"feret_diameter_min\": calculate_minimum_feret_diameters,\n",
    "        \"feret_diameter_max\": calculate_maximum_feret_diameters,\n",
    "    }\n",
    ")"
   ]
  },
  {
   "cell_type": "markdown",
   "metadata": {},
   "source": [
    "3. Filter detections with a `score < 0.9`, to unclutter our visualization."
   ]
  },
  {
   "cell_type": "code",
   "execution_count": null,
   "metadata": {
    "collapsed": false,
    "jupyter": {
     "outputs_hidden": false
    },
    "pycharm": {
     "name": "#%%\n"
    }
   },
   "outputs": [],
   "source": [
    "score_threshold = FilterScore(threshold=0.9)"
   ]
  },
  {
   "cell_type": "markdown",
   "metadata": {},
   "source": [
    "4. Save visualizations of the detections:"
   ]
  },
  {
   "cell_type": "code",
   "execution_count": null,
   "metadata": {
    "collapsed": false,
    "jupyter": {
     "outputs_hidden": false
    },
    "pycharm": {
     "name": "#%%\n"
    }
   },
   "outputs": [],
   "source": [
    "save_visualization = SaveVisualization(\n",
    "    output_root=output_root / subset,\n",
    "    do_display_box=False,\n",
    "    do_display_score=False,\n",
    "    do_display_label=False,\n",
    "    line_width=2,\n",
    "    map_label_to_class_name=result_data_set.map_label_to_class_name\n",
    ")"
   ]
  },
  {
   "cell_type": "markdown",
   "metadata": {},
   "source": [
    "Now, put everything together:"
   ]
  },
  {
   "cell_type": "code",
   "execution_count": null,
   "metadata": {
    "collapsed": false,
    "jupyter": {
     "outputs_hidden": false
    },
    "pycharm": {
     "name": "#%%\n"
    }
   },
   "outputs": [],
   "source": [
    "post_processing_steps = [\n",
    "    filter_border_instances,\n",
    "    save_mask_properties,\n",
    "    score_threshold,\n",
    "    save_visualization\n",
    "]"
   ]
  },
  {
   "cell_type": "markdown",
   "metadata": {},
   "source": [
    "Next, we create and run a `Postprocessor` instance."
   ]
  },
  {
   "cell_type": "code",
   "execution_count": null,
   "metadata": {
    "collapsed": false,
    "jupyter": {
     "outputs_hidden": false
    },
    "pycharm": {
     "name": "#%%\n"
    }
   },
   "outputs": [],
   "source": [
    "postprocessor = Postprocessor(result_data_set, post_processing_steps)\n",
    "postprocessor.run()"
   ]
  },
  {
   "cell_type": "markdown",
   "metadata": {},
   "source": [
    "Finally, we log the utilized setup of postprocessing steps to a file:"
   ]
  },
  {
   "cell_type": "code",
   "execution_count": null,
   "metadata": {
    "collapsed": false,
    "jupyter": {
     "outputs_hidden": false
    },
    "pycharm": {
     "name": "#%%\n"
    }
   },
   "outputs": [],
   "source": [
    "postprocessor.log(output_root / subset)"
   ]
  },
  {
   "cell_type": "markdown",
   "metadata": {},
   "source": [
    "## Evaluate results"
   ]
  },
  {
   "cell_type": "markdown",
   "metadata": {},
   "source": [
    "### Display an example detection"
   ]
  },
  {
   "cell_type": "code",
   "execution_count": null,
   "metadata": {
    "collapsed": false,
    "jupyter": {
     "outputs_hidden": false
    },
    "pycharm": {
     "name": "#%%\n"
    }
   },
   "outputs": [],
   "source": [
    "example_detection = Image(filename=output_root / subset / \"visualization_000002.png\")\n",
    "display(example_detection)"
   ]
  },
  {
   "cell_type": "markdown",
   "metadata": {},
   "source": [
    "### Print measurement results"
   ]
  },
  {
   "cell_type": "code",
   "execution_count": null,
   "metadata": {
    "collapsed": false,
    "jupyter": {
     "outputs_hidden": false
    },
    "pycharm": {
     "name": "#%%\n"
    }
   },
   "outputs": [],
   "source": [
    "measurement_results = pd.read_csv(\n",
    "    output_root / subset / \"measurements.csv\",\n",
    "    dtype={\"image_name\": str}\n",
    ")\n",
    "display(measurement_results)"
   ]
  },
  {
   "cell_type": "markdown",
   "metadata": {},
   "source": [
    "### Plot measurement results"
   ]
  },
  {
   "cell_type": "code",
   "execution_count": null,
   "metadata": {
    "collapsed": false,
    "jupyter": {
     "outputs_hidden": false
    },
    "pycharm": {
     "name": "#%%\n"
    }
   },
   "outputs": [],
   "source": [
    "plot_particle_size_distributions(\n",
    "    particle_size_lists=[measurement_results[\"feret_diameter_max\"]],\n",
    "    score_lists=[measurement_results[\"score\"]],\n",
    "    measurand_name=\"Maximum Feret Diameter\",\n",
    "    labels=[subset]\n",
    ")"
   ]
  },
  {
   "cell_type": "code",
   "execution_count": null,
   "metadata": {},
   "outputs": [],
   "source": []
  }
 ],
 "metadata": {
  "kernelspec": {
   "display_name": "Python 3 (ipykernel)",
   "language": "python",
   "name": "python3"
  },
  "language_info": {
   "codemirror_mode": {
    "name": "ipython",
    "version": 3
   },
   "file_extension": ".py",
   "mimetype": "text/x-python",
   "name": "python",
   "nbconvert_exporter": "python",
   "pygments_lexer": "ipython3",
   "version": "3.8.13"
  }
 },
 "nbformat": 4,
 "nbformat_minor": 4
}
